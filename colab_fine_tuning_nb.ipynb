{
 "cells": [
  {
   "cell_type": "code",
   "execution_count": null,
   "metadata": {
    "colab": {
     "base_uri": "https://localhost:8080/"
    },
    "id": "Pg_10DaSd9w0",
    "outputId": "d1ee230a-a712-4ead-f5ed-6c88f67cb804"
   },
   "outputs": [],
   "source": [
    "!pip install accelerate -U"
   ]
  },
  {
   "cell_type": "code",
   "execution_count": null,
   "metadata": {
    "id": "_8ICKeWNeIeb"
   },
   "outputs": [],
   "source": [
    "import pandas as pd\n",
    "from sklearn.model_selection import train_test_split\n",
    "from transformers import DistilBertTokenizer, DistilBertForSequenceClassification, TrainingArguments, Trainer, EarlyStoppingCallback\n",
    "from torch.utils.data import Dataset, DataLoader\n",
    "import torch"
   ]
  },
  {
   "cell_type": "code",
   "execution_count": null,
   "metadata": {
    "id": "WnefA4hceKgM"
   },
   "outputs": [],
   "source": [
    "df = pd.read_csv('path/to/data')"
   ]
  },
  {
   "cell_type": "code",
   "execution_count": null,
   "metadata": {
    "id": "ZpVtRk29eMTC"
   },
   "outputs": [],
   "source": [
    "df = df[['evidence','observation']]"
   ]
  },
  {
   "cell_type": "code",
   "execution_count": null,
   "metadata": {
    "id": "UwFM8eGYeN6q"
   },
   "outputs": [],
   "source": [
    "from sklearn.utils import resample\n",
    "\n",
    "# Separate classes\n",
    "proficient_class = df[df['observation'] == 'Proficient']\n",
    "basic_class = df[df['observation'] == 'Basic']\n",
    "accomplished_class = df[df['observation'] == 'Accomplished']\n",
    "unsatisfactory_class = df[df['observation'] == 'Unsatisfactory']\n",
    "\n",
    "# Determine the size to upsample to (e.g., match the largest class: 'Proficient')\n",
    "target_size = 5962\n",
    "\n",
    "# Upsample the minority classes\n",
    "basic_upsampled = resample(basic_class, replace=True, n_samples=target_size, random_state=42)\n",
    "accomplished_upsampled = resample(accomplished_class, replace=True, n_samples=target_size, random_state=42)\n",
    "unsatisfactory_upsampled = resample(unsatisfactory_class, replace=True, n_samples=target_size, random_state=42)\n",
    "\n",
    "# Combine the upsampled minority classes with the majority class\n",
    "data_balanced = pd.concat([proficient_class, basic_upsampled, accomplished_upsampled, unsatisfactory_upsampled])"
   ]
  },
  {
   "cell_type": "code",
   "execution_count": null,
   "metadata": {
    "colab": {
     "base_uri": "https://localhost:8080/"
    },
    "id": "37BSkLkreSIb",
    "outputId": "f363b0e8-a0bd-483a-e499-56fa18b5bf27"
   },
   "outputs": [],
   "source": [
    "df = data_balanced.sample(frac=1, random_state=42).reset_index(drop=True)\n",
    "\n",
    "print(data_balanced['observation'].value_counts())\n",
    "\n",
    "# Strip whitespace from labels\n",
    "df['observation'] = df['observation'].str.strip()"
   ]
  },
  {
   "cell_type": "code",
   "execution_count": null,
   "metadata": {
    "colab": {
     "base_uri": "https://localhost:8080/"
    },
    "id": "t8U-jQC8eW13",
    "outputId": "f1d4547c-881b-4f48-b9f4-26976eef1424"
   },
   "outputs": [],
   "source": [
    "# Re-check unique values\n",
    "print(df['observation'].unique())\n",
    "\n",
    "df['observation'] = df['observation'].str.lower()\n",
    "\n",
    "label_mapping = {'unsatisfactory': 0, 'basic': 1, 'proficient': 2, 'accomplished': 3}\n",
    "df['label'] = df['observation'].map(label_mapping)\n"
   ]
  },
  {
   "cell_type": "code",
   "execution_count": null,
   "metadata": {
    "id": "9dPldDZ9eZPk"
   },
   "outputs": [],
   "source": [
    "device = torch.device('cuda' if torch.cuda.is_available() else 'cpu')\n",
    "\n",
    "df['text'] = df['evidence'].apply(lambda x: x.lower())\n",
    "df['label'] = df['observation']\n",
    "\n",
    "# Clean the 'observation' column\n",
    "df['observation'] = df['observation'].str.strip()\n"
   ]
  },
  {
   "cell_type": "code",
   "execution_count": null,
   "metadata": {
    "id": "2ZT2bjkRebRx"
   },
   "outputs": [],
   "source": [
    "label_mapping = {'unsatisfactory': 0, 'basic': 1, 'proficient': 2, 'accomplished': 3}\n",
    "\n",
    "df['label'] = df['observation'].map(label_mapping).astype(int)\n",
    "\n",
    "train_texts, test_texts, train_labels, test_labels = train_test_split(\n",
    "    df['text'], df['label'], test_size=0.2, random_state=42\n",
    ")\n"
   ]
  },
  {
   "cell_type": "code",
   "execution_count": null,
   "metadata": {
    "colab": {
     "base_uri": "https://localhost:8080/",
     "height": 336,
     "referenced_widgets": [
      "ecc3f42f2f30482281f22172d8d661b0",
      "5ba3dc7a2dcc4a39a0d2a91388e853eb",
      "21e3189a8e304af4bf56a66aa7d0cb7b",
      "21cbdc6ec1a04b5b843c691e8f301c68",
      "b7cd6a063fe444cc9336fe33dc664998",
      "59ad1396635a4571acb2860306c09c1a",
      "7ba74d70123049d5a464040006c53e74",
      "c4be73ebddb442e886c08bd317eb2bb4",
      "fce42c3ebe5748d6b3db500670fbed81",
      "ce96985aa0a64010af875ccef05dd460",
      "d394875e5ff6449c817dc7e395c593fb",
      "6aa8610e40a64f54841d9430bb9f730d",
      "358261b518c84103b80926dc02a899fa",
      "b771b83dd66242aaad5bd1f7f9c901e8",
      "a38cde46e96642a18b7f34e2d31429a4",
      "606e7787423a47f8be734054dc07ac2c",
      "44627a7f36354d9e8f682127650944a4",
      "27c0760ddea24ffa88344cded12314eb",
      "60062b7e469a4a7da0ae2f15eb85aae6",
      "7c30924f23a246b8b30a60994163b21b",
      "37340cf578c3411ba672e72056f62e1f",
      "4955b3a2573743e09a61d2a71847edf2",
      "93207b530686412c8193781e35ebff7b",
      "186b974ac2df43a4b684c3f627c2093f",
      "f9776369ee674ebb9a9f5a8f55051ef7",
      "acf267a274cf4ea885a73a58bd0ce38a",
      "448095efd1c3481c9030db8c2f392746",
      "9444b6157ce147fda234d20bc3079ef9",
      "a74f50510cb34577822879bed48fa9a2",
      "fd4db0db80fc45d295fa3b7d7c88d2b4",
      "1a05eda2dda449d3a491b495874f5435",
      "c037e3b0a47046139bac0b5b9c21f561",
      "b33308ca68c64d54a6c5a23e3e70228a",
      "3c1f91c8593042509ed7202cfd141a6f",
      "b0fe0660777a4cc0913f910c07f35814",
      "a49861504874471ba78ddb9482070d5d",
      "c8611fb6a51949819c29815b6b57f52d",
      "15d8854703c746cc8c730f183ab50451",
      "b20318ff0d0c46caabc5e9ea4c1e0db5",
      "5a31a11f7d994df58a477b5e7f94959a",
      "789799397356481495755c40d698c54d",
      "89967d244a3a4f73a4a31cdea0e7ed76",
      "04437074e5ea43748cdbbdf8c781cf89",
      "cdb85abfa56b4968a64d039d1c7cc0e0",
      "33179214d6dd4fe7abee2894d6699708",
      "90f79f1a19a84bc39e0bd2a11841d34e",
      "1f5a1859fc274015aa67e6361c423398",
      "6ebfa43284e24d1a9b4e239dabbf0af3",
      "50d23e6136514fb0a0c138f0272e740e",
      "3eb725f0cf864abbaf66057ac8f84288",
      "5ab6c3de29c642cfadf5f4dc3952f428",
      "ac0f1f8ef0114d13b6700f21cc79f96d",
      "3e982fad485344a5a4bc18a42d83c546",
      "73e660d2286240e588fe256f2d9dfe5d",
      "4a56f5dd990b466bb12c976e5cc3305a"
     ]
    },
    "id": "WVCa_7RWecBL",
    "outputId": "c43305ed-ea17-4008-e216-5c334c017ff8"
   },
   "outputs": [],
   "source": [
    "model_name = 'distilbert-base-uncased'\n",
    "tokenizer = DistilBertTokenizer.from_pretrained(model_name)\n",
    "model = DistilBertForSequenceClassification.from_pretrained(model_name, num_labels=4)"
   ]
  },
  {
   "cell_type": "code",
   "execution_count": null,
   "metadata": {
    "id": "g12JrFo6efAI"
   },
   "outputs": [],
   "source": [
    "model.to(device)\n",
    "\n",
    "# Define label mapping\n",
    "label_mapping = {'unsatisfactory': 0, 'basic': 1, 'proficient': 2, 'accomplished': 3}\n",
    "\n",
    "# Map labels to integers\n",
    "df['label'] = df['observation'].map(label_mapping)"
   ]
  },
  {
   "cell_type": "code",
   "execution_count": null,
   "metadata": {
    "id": "r3vDsTiqefh2"
   },
   "outputs": [],
   "source": [
    "# Remove rows with unmapped (NaN) values\n",
    "if df['label'].isna().any():\n",
    "    print(\"Removing unmapped values...\")\n",
    "    print(\"Unmapped values found:\", df[df['label'].isna()])\n",
    "    df = df.dropna(subset=['label'])\n",
    "    print(f\"Dataset size after removal: {df.shape}\")\n",
    "\n",
    "train_encodings = tokenizer(list(train_texts), truncation=True, padding=True)\n",
    "test_encodings = tokenizer(list(test_texts), truncation=True, padding=True)"
   ]
  },
  {
   "cell_type": "code",
   "execution_count": null,
   "metadata": {
    "id": "VByjoF4JeiYG"
   },
   "outputs": [],
   "source": [
    "class ObservationDataset(Dataset):\n",
    "    def __init__(self, encodings, labels):\n",
    "        self.encodings = encodings\n",
    "        self.labels = labels\n",
    "\n",
    "    def __getitem__(self, idx):\n",
    "        item = {key: torch.tensor(val[idx]) for key, val in self.encodings.items()}\n",
    "        item['labels'] = torch.tensor(self.labels[idx], dtype=torch.long)  # Ensure labels are integers\n",
    "        return item\n",
    "\n",
    "    def __len__(self):\n",
    "        return len(self.labels)\n",
    "\n",
    "train_dataset = ObservationDataset(train_encodings, train_labels.tolist())\n",
    "test_dataset = ObservationDataset(test_encodings, test_labels.tolist())"
   ]
  },
  {
   "cell_type": "code",
   "execution_count": null,
   "metadata": {
    "colab": {
     "base_uri": "https://localhost:8080/"
    },
    "id": "LpcCdtpnek-t",
    "outputId": "9446bdc1-7457-4c14-8c74-0b46fa77209e"
   },
   "outputs": [],
   "source": [
    "training_args = TrainingArguments(\n",
    "    output_dir='./results',\n",
    "    num_train_epochs=10,                # Increase epochs\n",
    "    per_device_train_batch_size=16,    # Reduce batch size\n",
    "    per_device_eval_batch_size=32,     # Adjust eval batch size\n",
    "    warmup_steps=200,                  # Reduce warmup steps\n",
    "    weight_decay=0.1,                  # Increase weight decay\n",
    "    learning_rate=2e-5,                # Lower learning rate\n",
    "    logging_dir='./logs',\n",
    "    logging_steps=5,                   # More frequent logging\n",
    "    evaluation_strategy=\"epoch\",\n",
    "    save_strategy=\"epoch\",\n",
    "    gradient_accumulation_steps=2,     # Simulate larger batch size\n",
    "    fp16=True if device.type == 'cuda' else False,\n",
    "    load_best_model_at_end=True\n",
    ")"
   ]
  },
  {
   "cell_type": "code",
   "execution_count": null,
   "metadata": {
    "id": "zDNnkQdvemzo"
   },
   "outputs": [],
   "source": [
    "trainer = Trainer(\n",
    "    model=model,\n",
    "    args=training_args,\n",
    "    train_dataset=train_dataset,\n",
    "    eval_dataset=test_dataset,\n",
    "    callbacks=[EarlyStoppingCallback(early_stopping_patience=3)]\n",
    ")"
   ]
  },
  {
   "cell_type": "code",
   "execution_count": null,
   "metadata": {
    "colab": {
     "base_uri": "https://localhost:8080/",
     "height": 464
    },
    "id": "lJ4Ju3j6eoZ8",
    "outputId": "d8e13434-3763-434f-d41f-20f734e1d7f0"
   },
   "outputs": [],
   "source": [
    "trainer.train()"
   ]
  },
  {
   "cell_type": "code",
   "execution_count": null,
   "metadata": {
    "colab": {
     "base_uri": "https://localhost:8080/",
     "height": 54
    },
    "id": "y-Wbh7vHeqQ5",
    "outputId": "2f7ab93c-6559-4c0e-ffbe-23090160d3b2"
   },
   "outputs": [],
   "source": [
    "eval_results = trainer.evaluate()\n",
    "print(eval_results)"
   ]
  },
  {
   "cell_type": "code",
   "execution_count": null,
   "metadata": {
    "colab": {
     "base_uri": "https://localhost:8080/",
     "height": 52
    },
    "id": "XSCZpRcueuHQ",
    "outputId": "89c65e1b-efeb-44fa-e606-cbb530aa22df"
   },
   "outputs": [],
   "source": [
    "predictions = trainer.predict(test_dataset)\n",
    "\n",
    "pred_logits = predictions.predictions  # Raw logits\n",
    "pred_labels = pred_logits.argmax(axis=1)  # Predicted class indices\n",
    "\n",
    "true_labels = predictions.label_ids\n",
    "\n",
    "print(\"True Labels:\", true_labels[:10])\n",
    "print(\"Predicted Labels:\", pred_labels[:10])"
   ]
  },
  {
   "cell_type": "code",
   "execution_count": null,
   "metadata": {
    "colab": {
     "base_uri": "https://localhost:8080/"
    },
    "id": "Ehp0cJJEeuoX",
    "outputId": "3cc3fca8-c5f1-4b8d-fa5e-ef29ff2b10a2"
   },
   "outputs": [],
   "source": [
    "from sklearn.metrics import classification_report, confusion_matrix\n",
    "\n",
    "cm = confusion_matrix(true_labels, pred_labels)\n",
    "print(\"Confusion Matrix:\\n\", cm)\n",
    "\n",
    "label_mapping = {0: \"Unsatisfactory\", 1: \"Basic\", 2: \"Proficient\", 3: \"Accomplished\"}\n",
    "report = classification_report(true_labels, pred_labels, target_names=label_mapping.values())\n",
    "print(\"Classification Report:\\n\", report)\n"
   ]
  },
  {
   "cell_type": "code",
   "execution_count": null,
   "metadata": {
    "colab": {
     "base_uri": "https://localhost:8080/"
    },
    "id": "ZGkS9zqsexxT",
    "outputId": "5b9eca33-47b1-4b8e-8b7a-7b76fa45c3f2"
   },
   "outputs": [],
   "source": [
    "trainer.save_model('./trained_model')\n",
    "\n",
    "# Save the tokenizer\n",
    "tokenizer.save_pretrained('./trained_model')\n"
   ]
  },
  {
   "cell_type": "code",
   "execution_count": null,
   "metadata": {
    "id": "2zFfPQwhe3h_"
   },
   "outputs": [],
   "source": [
    "from transformers import DistilBertForSequenceClassification, DistilBertTokenizer\n",
    "\n",
    "# Load the model\n",
    "model = DistilBertForSequenceClassification.from_pretrained('./trained_model')\n",
    "tokenizer = DistilBertTokenizer.from_pretrained('./trained_model')"
   ]
  },
  {
   "cell_type": "code",
   "execution_count": null,
   "metadata": {
    "colab": {
     "base_uri": "https://localhost:8080/"
    },
    "id": "X2BQujUAe4aF",
    "outputId": "cd6466e8-a5d4-4cbb-afa1-690ce854a559"
   },
   "outputs": [],
   "source": [
    "text = \"They were terrific, everybody loved them, accomplished the task well.\"\n",
    "\n",
    "# Tokenize the input\n",
    "inputs = tokenizer(text, return_tensors='pt', truncation=True, padding=True)\n",
    "\n",
    "# Get predictions\n",
    "model.eval()  # Set model to evaluation mode\n",
    "outputs = model(**inputs)\n",
    "\n",
    "# Predicted class\n",
    "predicted_class = torch.argmax(outputs.logits, dim=1).item()\n",
    "print(f\"Predicted class: {predicted_class}\")"
   ]
  },
  {
   "cell_type": "code",
   "execution_count": null,
   "metadata": {
    "colab": {
     "base_uri": "https://localhost:8080/",
     "height": 156
    },
    "id": "CbbUUieJe8Ob",
    "outputId": "c4c0e267-0f55-4a9f-f637-7d3f6ad51cbc"
   },
   "outputs": [],
   "source": [
    "!zip -r /content/trained_model.zip /content/trained_model\n",
    "\n",
    "from google.colab import files\n",
    "files.download('/content/trained_model.zip')"
   ]
  },
  {
   "cell_type": "code",
   "execution_count": null,
   "metadata": {
    "id": "T6XJrQi2n16K"
   },
   "outputs": [],
   "source": []
  }
 ],
 "metadata": {
  "accelerator": "GPU",
  "colab": {
   "gpuType": "T4",
   "provenance": []
  },
  "kernelspec": {
   "display_name": "Python 3",
   "name": "python3"
  },
  "language_info": {
   "name": "python"
  }
 },
 "nbformat": 4,
 "nbformat_minor": 0
}
